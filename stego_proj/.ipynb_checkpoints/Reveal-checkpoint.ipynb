{
 "cells": [
  {
   "cell_type": "code",
   "execution_count": 1,
   "metadata": {},
   "outputs": [],
   "source": [
    "import argparse\n",
    "import LSB_img_reveal\n",
    "import LSB_text_reveal"
   ]
  },
  {
   "cell_type": "code",
   "execution_count": 2,
   "metadata": {},
   "outputs": [
    {
     "data": {
      "text/plain": [
       "_StoreAction(option_strings=[], dest='lsb_bit', nargs=None, const=None, default=None, type=<class 'int'>, choices=None, help='Number of lsb bits to be modified', metavar='n')"
      ]
     },
     "execution_count": 2,
     "metadata": {},
     "output_type": "execute_result"
    }
   ],
   "source": [
    "parser = argparse.ArgumentParser(description='Steganography')\n",
    "parser.add_argument('stego_type',metavar='opt',type=str,help='Type of steganography',choices=[\"img\",\"text\"])\n",
    "parser.add_argument('overtImgPath',metavar='opath',type=str,help='Path for the image with hidden data')\n",
    "parser.add_argument('lsb_bit',metavar='n',type=int,help='Number of lsb bits to be modified')"
   ]
  },
  {
   "cell_type": "code",
   "execution_count": null,
   "metadata": {},
   "outputs": [],
   "source": [
    "args = parser.parse_args()"
   ]
  },
  {
   "cell_type": "code",
   "execution_count": null,
   "metadata": {},
   "outputs": [],
   "source": [
    "if (stego_type=='img'):\n",
    "    LSB_img_reveal.lsbImgReveal(args.overtImgPath,args.lsb_bit)\n",
    "elif (stego_type=='text'):\n",
    "    LSB_text_reveal.lsbTextReveal(args.overtImgPath,args.lsb_bit)\n",
    "    "
   ]
  }
 ],
 "metadata": {
  "kernelspec": {
   "display_name": "Python 3",
   "language": "python",
   "name": "python3"
  },
  "language_info": {
   "codemirror_mode": {
    "name": "ipython",
    "version": 3
   },
   "file_extension": ".py",
   "mimetype": "text/x-python",
   "name": "python",
   "nbconvert_exporter": "python",
   "pygments_lexer": "ipython3",
   "version": "3.7.3"
  }
 },
 "nbformat": 4,
 "nbformat_minor": 2
}
