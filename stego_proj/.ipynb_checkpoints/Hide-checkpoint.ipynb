{
 "cells": [
  {
   "cell_type": "code",
   "execution_count": 10,
   "metadata": {},
   "outputs": [],
   "source": [
    "import argparse\n",
    "import LSB_img_hide\n",
    "import LSB_text_hide\n",
    "import PSNR"
   ]
  },
  {
   "cell_type": "code",
   "execution_count": 11,
   "metadata": {},
   "outputs": [
    {
     "data": {
      "text/plain": [
       "_StoreTrueAction(option_strings=['--p', '--psnr'], dest='p', nargs=0, const=True, default=False, type=None, choices=None, help='To calculate Peak to Signal Ratio', metavar=None)"
      ]
     },
     "execution_count": 11,
     "metadata": {},
     "output_type": "execute_result"
    }
   ],
   "source": [
    "parser = argparse.ArgumentParser(description='Steganography')\n",
    "parser.add_argument('stego_type',metavar='opt',type=str,help='Type of steganography',choices=[\"img\",\"text\"])\n",
    "parser.add_argument('overtImgPath',metavar='opath',type=str,help='Path for the image to be used as Overt image')\n",
    "# parser.add_argument('message',metavar='msg',type=str,help='Message to be hidden')\n",
    "parser.add_argument('hidden_data',metavar='hidden_data',type=str,help='Enter Path for hiding image / Enter text to be hidden ')\n",
    "parser.add_argument('lsb_bit',metavar='n',type=int,help='Number of lsb bits to be modified')\n",
    "parser.add_argument('--p','--ps',help='To calculate Peak Signal to Noise Ratio',action='store_true')\n",
    "\n"
   ]
  },
  {
   "cell_type": "code",
   "execution_count": 12,
   "metadata": {},
   "outputs": [
    {
     "name": "stderr",
     "output_type": "stream",
     "text": [
      "usage: ipykernel_launcher.py [-h] [--p] opt opath hidden_data n\n",
      "ipykernel_launcher.py: error: argument opt: invalid choice: 'C:\\\\Users\\\\pavit kaur\\\\AppData\\\\Roaming\\\\jupyter\\\\runtime\\\\kernel-4f340bf7-8036-4ed7-9f15-092ae081cbb3.json' (choose from 'img', 'text')\n"
     ]
    },
    {
     "ename": "SystemExit",
     "evalue": "2",
     "output_type": "error",
     "traceback": [
      "An exception has occurred, use %tb to see the full traceback.\n",
      "\u001b[1;31mSystemExit\u001b[0m\u001b[1;31m:\u001b[0m 2\n"
     ]
    }
   ],
   "source": [
    "args = parser.parse_args()"
   ]
  },
  {
   "cell_type": "code",
   "execution_count": 13,
   "metadata": {},
   "outputs": [
    {
     "ename": "NameError",
     "evalue": "name 'args' is not defined",
     "output_type": "error",
     "traceback": [
      "\u001b[1;31m---------------------------------------------------------------------------\u001b[0m",
      "\u001b[1;31mNameError\u001b[0m                                 Traceback (most recent call last)",
      "\u001b[1;32m<ipython-input-13-24db1fd961b7>\u001b[0m in \u001b[0;36m<module>\u001b[1;34m\u001b[0m\n\u001b[1;32m----> 1\u001b[1;33m \u001b[1;32mif\u001b[0m\u001b[1;33m(\u001b[0m\u001b[0margs\u001b[0m\u001b[1;33m.\u001b[0m\u001b[0mstego_type\u001b[0m\u001b[1;33m==\u001b[0m\u001b[1;34m\"img\"\u001b[0m\u001b[1;33m)\u001b[0m\u001b[1;33m:\u001b[0m\u001b[1;33m\u001b[0m\u001b[1;33m\u001b[0m\u001b[0m\n\u001b[0m\u001b[0;32m      2\u001b[0m     \u001b[0mLSB_img_hide\u001b[0m\u001b[1;33m.\u001b[0m\u001b[0mlsbImageHide\u001b[0m\u001b[1;33m(\u001b[0m\u001b[0margs\u001b[0m\u001b[1;33m.\u001b[0m\u001b[0movertImgPath\u001b[0m\u001b[1;33m,\u001b[0m\u001b[0margs\u001b[0m\u001b[1;33m.\u001b[0m\u001b[0mhidden_data\u001b[0m\u001b[1;33m,\u001b[0m\u001b[0margs\u001b[0m\u001b[1;33m.\u001b[0m\u001b[0mlsb_bit\u001b[0m\u001b[1;33m)\u001b[0m\u001b[1;33m\u001b[0m\u001b[1;33m\u001b[0m\u001b[0m\n\u001b[0;32m      3\u001b[0m \u001b[1;33m\u001b[0m\u001b[0m\n\u001b[0;32m      4\u001b[0m \u001b[1;32melif\u001b[0m\u001b[1;33m(\u001b[0m\u001b[0margs\u001b[0m\u001b[1;33m.\u001b[0m\u001b[0mstego_type\u001b[0m\u001b[1;33m==\u001b[0m\u001b[1;34m\"text\"\u001b[0m\u001b[1;33m)\u001b[0m\u001b[1;33m:\u001b[0m\u001b[1;33m\u001b[0m\u001b[1;33m\u001b[0m\u001b[0m\n\u001b[0;32m      5\u001b[0m     \u001b[0mLSB_text_hide\u001b[0m\u001b[1;33m.\u001b[0m\u001b[0mlsbTextHide\u001b[0m\u001b[1;33m(\u001b[0m\u001b[0margs\u001b[0m\u001b[1;33m.\u001b[0m\u001b[0movertImgPath\u001b[0m\u001b[1;33m,\u001b[0m\u001b[0margs\u001b[0m\u001b[1;33m.\u001b[0m\u001b[0mhidden_data\u001b[0m\u001b[1;33m,\u001b[0m\u001b[0margs\u001b[0m\u001b[1;33m.\u001b[0m\u001b[0mlsb_bit\u001b[0m\u001b[1;33m)\u001b[0m\u001b[1;33m\u001b[0m\u001b[1;33m\u001b[0m\u001b[0m\n",
      "\u001b[1;31mNameError\u001b[0m: name 'args' is not defined"
     ]
    }
   ],
   "source": [
    "if(args.stego_type==\"img\"):\n",
    "    LSB_img_hide.lsbImageHide(args.overtImgPath,args.hidden_data,args.lsb_bit)\n",
    "    \n",
    "elif(args.stego_type==\"text\"):\n",
    "    LSB_text_hide.lsbTextHide(args.overtImgPath,args.hidden_data,args.lsb_bit)\n",
    "\n",
    "if args.ps:\n",
    "    result_path=\"./resultant_img.png\"\n",
    "    a=PSNR.psnr(args.overtImgPath,result_path)\n",
    "    print(\"Peak  Signal to Noise Ratio: \",end=\"\")\n",
    "    print(a)\n",
    "            "
   ]
  },
  {
   "cell_type": "code",
   "execution_count": null,
   "metadata": {},
   "outputs": [],
   "source": []
  },
  {
   "cell_type": "code",
   "execution_count": null,
   "metadata": {},
   "outputs": [],
   "source": []
  }
 ],
 "metadata": {
  "kernelspec": {
   "display_name": "Python 3",
   "language": "python",
   "name": "python3"
  },
  "language_info": {
   "codemirror_mode": {
    "name": "ipython",
    "version": 3
   },
   "file_extension": ".py",
   "mimetype": "text/x-python",
   "name": "python",
   "nbconvert_exporter": "python",
   "pygments_lexer": "ipython3",
   "version": "3.7.3"
  }
 },
 "nbformat": 4,
 "nbformat_minor": 2
}
